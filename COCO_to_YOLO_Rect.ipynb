{
 "cells": [
  {
   "source": [
    "import os\n",
    "import json\n",
    "from PIL import Image"
   ],
   "cell_type": "code",
   "outputs": [],
   "metadata": {},
   "execution_count": 1
  },
  {
   "source": [
    "#DIR_IMG_PREFIX = \"/home/kozol/Pulpit/grant_rak/wybrane_zdjecia/wybrane/\"\n",
    "DIR_IMG_PREFIX = \"/media/mk/3C243342451A70C5/Grant_rak/wybrane_zdjecia/wybrane/\"\n",
    "ADNOTATION_PREFIX = \"/home/mk/Pulpit/2TB/Grant_rak/adnotaton/\"\n",
    "DIR_OUTPUT_PREFIX = \"output/\"\n",
    "\n",
    "#create output dir if not exist\n",
    "if not os.path.exists(DIR_OUTPUT_PREFIX):\n",
    "    os.makedirs(DIR_OUTPUT_PREFIX)"
   ],
   "cell_type": "code",
   "outputs": [],
   "metadata": {},
   "execution_count": 2
  },
  {
   "source": [
    "with open(ADNOTATION_PREFIX + \"dataset_znamiona_13_01_2020.json\") as f:\n",
    "  data_adnotation = json.load(f)\n",
    "#print(json.dumps(data_adnotation, indent = 4, sort_keys=True))"
   ],
   "cell_type": "code",
   "outputs": [],
   "metadata": {},
   "execution_count": 3
  },
  {
   "cell_type": "code",
   "execution_count": 9,
   "metadata": {},
   "outputs": [
    {
     "name": "stdout",
     "output_type": "stream",
     "text": "{'filename': '20 (3).jpg', 'size': 706314, 'regions': [{'shape_attributes': {'name': 'rect', 'x': 512, 'y': 190, 'width': 21, 'height': 17}, 'region_attributes': {}}, {'shape_attributes': {'name': 'rect', 'x': 975, 'y': 172, 'width': 16, 'height': 14}, 'region_attributes': {}}, {'shape_attributes': {'name': 'rect', 'x': 1156, 'y': 168, 'width': 11, 'height': 15}, 'region_attributes': {}}, {'shape_attributes': {'name': 'rect', 'x': 525, 'y': 73, 'width': 12, 'height': 9}, 'region_attributes': {}}], 'file_attributes': {}}\n"
    }
   ],
   "source": [
    "#Preview adtotation structure\n",
    "print(data_adnotation[\"_via_img_metadata\"][\"20 (3).jpg706314\"])"
   ]
  },
  {
   "cell_type": "code",
   "execution_count": 10,
   "metadata": {},
   "outputs": [
    {
     "data": {
      "text/plain": "dict_keys(['3.jpg427054', '20 (3).jpg706314', '20 (4).jpg369901', '23 (1).jpg413505', '24 (2).jpg318544', '24 (3).jpg309772', '26 (3).jpg337895', '27 (4).jpg360609', 'DSC00110.JPG6082091', 'DSC00111.JPG5623341', 'DSC00117.JPG6475033', 'DSC00119.JPG6911671', 'DSC00126.JPG6419802', 'DSC00127.JPG6578659', 'DSC00128.JPG5580350', 'DSC00134.JPG6036283', 'DSC00140.JPG5616825', 'DSC00150.JPG5058371', 'DSC00156.JPG5264452', 'DSC00157.JPG5486308', 'DSC00175.JPG6710764', 'DSC00225.JPG4602463', 'DSC00226.JPG4644050', 'DSC00280.JPG5777137', 'DSC00471.JPG4744265', 'DSC00472.JPG4905500', 'DSC00473.JPG5274802', 'DSC00481.JPG4957809', 'DSC00482.JPG4668572', 'DSC00561.JPG5172946', 'DSC00585.JPG4071830', 'DSC00586.JPG4524082', 'DSC00614.JPG5899572', 'DSC00915.JPG4658520', 'DSC00925.JPG4351421', 'DSC00926.JPG5112594', 'DSC00927.JPG5218719', 'DSC00998 (1).jpg4177102', 'DSC00998.JPG4150150', 'DSC00999 (1).jpg4100640', 'DSC01020 (1).jpg4657196', 'DSC01115.JPG6298986', 'im_0751_20190529_155640.jpg3137214', 'im_0752_20190529_155643.jpg3169719', 'im_0753_20190529_155647.jpg3195037', 'im_0824_20190529_160111.jpg3212589', 'im_0825_20190529_160115.jpg3223803', 'im_0828_20190529_160126.jpg3257270', 'im_1213_20190529_204709.jpg3304638', 'im_1214_20190529_204713.jpg3379563', 'IMG_0013.JPG6027124', 'IMG_0029.JPG8753966', 'IMG_0132.JPG11446235', 'IMG_0139.JPG11220283', 'IMG_0140.JPG6791072'])"
     },
     "execution_count": 10,
     "metadata": {},
     "output_type": "execute_result"
    }
   ],
   "source": [
    "#Preview adtotation structure no.2\n",
    "data_adnotation[\"_via_img_metadata\"].keys()"
   ]
  },
  {
   "cell_type": "code",
   "execution_count": 11,
   "metadata": {},
   "outputs": [
    {
     "data": {
      "text/plain": "dict_keys(['filename', 'size', 'regions', 'file_attributes'])"
     },
     "execution_count": 11,
     "metadata": {},
     "output_type": "execute_result"
    }
   ],
   "source": [
    "#Preview adtotation structure no.3\n",
    "data_adnotation[\"_via_img_metadata\"][\"20 (3).jpg706314\"].keys()"
   ]
  },
  {
   "cell_type": "code",
   "execution_count": 12,
   "metadata": {},
   "outputs": [
    {
     "data": {
      "text/plain": "['DSC00157.JPG',\n 'DSC00927.JPG',\n '20 (3).jpg',\n '20 (4).jpg',\n '23 (1).jpg',\n '24 (2).jpg',\n '24 (3).jpg',\n '26 (3).jpg',\n '27 (4).jpg',\n '3.jpg',\n 'DSC00110.JPG',\n 'DSC00111.JPG',\n 'DSC00117.JPG',\n 'DSC00119.JPG',\n 'DSC00126.JPG',\n 'DSC00127.JPG',\n 'DSC00128.JPG',\n 'DSC00134.JPG',\n 'DSC00140.JPG',\n 'DSC00150.JPG',\n 'DSC00156.JPG',\n 'DSC00175.JPG',\n 'DSC00225.JPG',\n 'DSC00226.JPG',\n 'DSC00280.JPG',\n 'DSC00471.JPG',\n 'DSC00472.JPG',\n 'DSC00473.JPG',\n 'DSC00481.JPG',\n 'DSC00482.JPG',\n 'DSC00561.JPG',\n 'DSC00585.JPG',\n 'DSC00586.JPG',\n 'DSC00614.JPG',\n 'DSC00915.JPG',\n 'DSC00925.JPG',\n 'DSC00926.JPG',\n 'DSC00998 (1).jpg',\n 'DSC00998.JPG',\n 'DSC00999 (1).jpg',\n 'DSC01020 (1).jpg',\n 'DSC01115.JPG',\n 'IMG_0013.JPG',\n 'IMG_0029.JPG',\n 'IMG_0132.JPG',\n 'IMG_0139.JPG',\n 'IMG_0140.JPG',\n 'im_0751_20190529_155640.jpg',\n 'im_0752_20190529_155643.jpg',\n 'im_0753_20190529_155647.jpg',\n 'im_0824_20190529_160111.jpg',\n 'im_0825_20190529_160115.jpg',\n 'im_0828_20190529_160126.jpg',\n 'im_1213_20190529_204709.jpg',\n 'im_1214_20190529_204713.jpg']"
     },
     "execution_count": 12,
     "metadata": {},
     "output_type": "execute_result"
    }
   ],
   "source": [
    "os.listdir(DIR_IMG_PREFIX)"
   ]
  },
  {
   "cell_type": "code",
   "execution_count": 13,
   "metadata": {},
   "outputs": [
    {
     "data": {
      "text/plain": "dict_items([('filename', '20 (3).jpg'), ('size', 706314), ('regions', [{'shape_attributes': {'name': 'rect', 'x': 512, 'y': 190, 'width': 21, 'height': 17}, 'region_attributes': {}}, {'shape_attributes': {'name': 'rect', 'x': 975, 'y': 172, 'width': 16, 'height': 14}, 'region_attributes': {}}, {'shape_attributes': {'name': 'rect', 'x': 1156, 'y': 168, 'width': 11, 'height': 15}, 'region_attributes': {}}, {'shape_attributes': {'name': 'rect', 'x': 525, 'y': 73, 'width': 12, 'height': 9}, 'region_attributes': {}}]), ('file_attributes', {})])"
     },
     "execution_count": 13,
     "metadata": {},
     "output_type": "execute_result"
    }
   ],
   "source": [
    "data_adnotation[\"_via_img_metadata\"][\"20 (3).jpg706314\"].items()"
   ]
  },
  {
   "cell_type": "raw",
   "metadata": {},
   "source": [
    "\"filename\": \"20 (3).jpg\",\n",
    "\"regions\": [\n",
    "    {\n",
    "        \"region_attributes\": {},\n",
    "        \"shape_attributes\": {\n",
    "            \"height\": 17,\n",
    "            \"name\": \"rect\",\n",
    "            \"width\": 21,\n",
    "            \"x\": 512,\n",
    "            \"y\": 190\n",
    "        }"
   ]
  },
  {
   "cell_type": "code",
   "execution_count": 14,
   "metadata": {},
   "outputs": [
    {
     "name": "stdout",
     "output_type": "stream",
     "text": "7\ny:1043\nh:13\nw:10\n\nid:6\nx:552\ny:1036\nh:14\nw:11\n\nid:7\nx:293\ny:200\nh:13\nw:11\n\nid:8\nx:305\ny:262\nh:9\nw:5\n\nid:9\nx:394\ny:175\nh:8\nw:7\n\nid:10\nx:322\ny:412\nh:15\nw:10\n\nid:11\nx:260\ny:388\nh:8\nw:8\n\nid:12\nx:243\ny:352\nh:13\nw:10\n\nid:13\nx:232\ny:431\nh:10\nw:6\n\nid:14\nx:218\ny:511\nh:9\nw:6\n\nid:15\nx:233\ny:526\nh:8\nw:9\n\nid:16\nx:286\ny:567\nh:12\nw:11\n\nid:17\nx:322\ny:556\nh:6\nw:5\n\nid:18\nx:371\ny:587\nh:10\nw:7\n\nid:19\nx:389\ny:631\nh:10\nw:10\n\nid:20\nx:223\ny:636\nh:9\nw:10\n\nid:21\nx:227\ny:966\nh:6\nw:7\n\nid:22\nx:1027\ny:965\nh:11\nw:9\n\nfilename: 24 (3).jpg\nid:0\nx:354\ny:689\nh:14\nw:14\n\nid:1\nx:612\ny:342\nh:6\nw:3\n\nid:2\nx:677\ny:348\nh:6\nw:5\n\nid:3\nx:393\ny:818\nh:10\nw:10\n\nid:4\nx:501\ny:965\nh:6\nw:6\n\nid:5\nx:700\ny:825\nh:5\nw:7\n\nid:6\nx:610\ny:801\nh:6\nw:6\n\nfilename: 26 (3).jpg\nid:0\nx:401\ny:304\nh:18\nw:17\n\nid:1\nx:373\ny:350\nh:11\nw:8\n\nid:2\nx:409\ny:424\nh:17\nw:11\n\nid:3\nx:299\ny:398\nh:6\nw:7\n\nid:4\nx:518\ny:303\nh:9\nw:7\n\nid:5\nx:472\ny:222\nh:6\nw:6\n\nid:6\nx:529\ny:174\nh:8\nw:5\n\nid:7\nx:387\ny:195\nh:8\nw:6\n\nid:8\nx:685\ny:3\nh:9\nw:11\n\nid:9\nx:948\ny:112\nh:13\nw:12\n\nid:10\nx:978\ny:198\nh:10\nw:9\n\nid:11\nx:910\ny:289\nh:11\nw:12\n\nid:12\nx:952\ny:342\nh:8\nw:11\n\nid:13\nx:920\ny:388\nh:10\nw:12\n\nid:14\nx:853\ny:328\nh:10\nw:13\n\nid:15\nx:822\ny:258\nh:12\nw:10\n\nid:16\nx:718\ny:343\nh:15\nw:14\n\nid:17\nx:674\ny:233\nh:10\nw:8\n\nid:18\nx:724\ny:442\nh:13\nw:14\n\nid:19\nx:920\ny:490\nh:11\nw:12\n\nid:20\nx:850\ny:503\nh:11\nw:10\n\nid:21\nx:953\ny:510\nh:10\nw:10\n\nid:22\nx:978\ny:648\nh:12\nw:9\n\nid:23\nx:989\ny:808\nh:9\nw:9\n\nid:24\nx:1015\ny:742\nh:11\nw:9\n\nid:25\nx:701\ny:794\nh:9\nw:8\n\nfilename: 27 (4).jpg\nid:0\nx:832\ny:648\nh:23\nw:21\n\nid:1\nx:807\ny:352\nh:10\nw:6\n\nid:2\nx:1046\ny:400\nh:6\nw:7\n\nid:3\nx:1130\ny:663\nh:9\nw:7\n\nid:4\nx:954\ny:522\nh:8\nw:6\n\nid:5\nx:630\ny:523\nh:10\nw:10\n\nid:6\nx:623\ny:439\nh:10\nw:8\n\nid:7\nx:825\ny:736\nh:10\nw:12\n\nid:8\nx:803\ny:807\nh:10\nw:11\n\nid:9\nx:870\ny:1056\nh:10\nw:8\n\nid:10\nx:726\ny:935\nh:11\nw:8\n\nid:11\nx:874\ny:590\nh:10\nw:9\n\nid:12\nx:920\ny:378\nh:6\nw:4\n\nid:13\nx:825\ny:550\nh:8\nw:6\n\nid:14\nx:1205\ny:747\nh:23\nw:24\n\nfilename: DSC00110.JPG\nid:0\nx:2158\ny:1873\nh:95\nw:125\n\nid:1\nx:4102\ny:1706\nh:107\nw:119\n\nid:2\nx:2767\ny:2449\nh:49\nw:55\n\nid:3\nx:3854\ny:3689\nh:49\nw:42\n\nid:4\nx:3551\ny:3661\nh:40\nw:53\n\nid:5\nx:1479\ny:2879\nh:51\nw:34\n\nfilename: DSC00111.JPG\nid:0\nx:2295\ny:1718\nh:83\nw:89\n\nid:1\nx:933\ny:1849\nh:101\nw:95\n\nid:2\nx:2791\ny:1183\nh:46\nw:46\n\nid:3\nx:1407\ny:3653\nh:36\nw:34\n\nid:4\nx:1663\ny:3768\nh:49\nw:40\n\nid:5\nx:4570\ny:1860\nh:32\nw:30\n\nid:6\nx:4131\ny:1345\nh:32\nw:28\n\nfilename: DSC00117.JPG\nid:0\nx:2806\ny:1873\nh:100\nw:91\n\nid:1\nx:4451\ny:1710\nh:77\nw:73\n\nid:2\nx:3395\ny:2525\nh:55\nw:55\n\nid:3\nx:1302\ny:3111\nh:46\nw:42\n\nid:4\nx:1526\ny:3206\nh:51\nw:61\n\nid:5\nx:4491\ny:3813\nh:46\nw:32\n\nid:6\nx:4303\ny:3827\nh:40\nw:32\n\nfilename: DSC00119.JPG\nid:0\nx:1967\ny:1765\nh:122\nw:122\n\nid:1\nx:4381\ny:1568\nh:80\nw:90\n\nid:2\nx:4430\ny:994\nh:50\nw:40\n\nid:3\nx:1027\ny:3152\nh:40\nw:32\n\nid:4\nx:934\ny:3061\nh:34\nw:24\n\nid:5\nx:5002\ny:3688\nh:51\nw:43\n\nfilename: DSC00126.JPG\nid:0\nx:3099\ny:1833\nh:130\nw:118\n\nid:1\nx:1597\ny:3430\nh:56\nw:56\n\nid:2\nx:1296\ny:3329\nh:48\nw:48\n\nid:3\nx:4703\ny:1683\nh:81\nw:66\n\nfilename: DSC00127.JPG\nid:0\nx:1963\ny:1923\nh:105\nw:150\n\nid:1\nx:4519\ny:1728\nh:110\nw:105\n\nid:2\nx:1038\ny:3255\nh:41\nw:38\n\nfilename: DSC00128.JPG\nid:0\nx:2681\ny:1648\nh:86\nw:101\n\nid:1\nx:1220\ny:1830\nh:84\nw:86\n\nid:2\nx:3362\ny:967\nh:56\nw:46\n\nfilename: DSC00134.JPG\nid:0\nx:3229\ny:1862\nh:118\nw:101\n\nid:1\nx:1749\ny:3430\nh:51\nw:53\n\nid:2\nx:1412\ny:3341\nh:38\nw:66\n\nfilename: DSC00140.JPG\nid:0\nx:2053\ny:1959\nh:105\nw:101\n\nid:1\nx:4077\ny:1825\nh:93\nw:85\n\nid:2\nx:1368\ny:2900\nh:42\nw:41\n\nfilename: DSC00150.JPG\nid:0\nx:2235\ny:1781\nh:97\nw:97\n\nid:1\nx:892\ny:1931\nh:85\nw:93\n\nfilename: DSC00156.JPG\nid:0\nx:2394\ny:1891\nh:75\nw:84\n\nid:1\nx:1143\ny:3102\nh:35\nw:55\n\nid:2\nx:932\ny:2988\nh:42\nw:42\n\nid:3\nx:3819\ny:1796\nh:53\nw:59\n\nfilename: DSC00157.JPG\nid:0\nx:1579\ny:1888\nh:90\nw:106\n\nid:1\nx:3700\ny:1748\nh:86\nw:84\n\nfilename: DSC00175.JPG\nid:0\nx:1854\ny:1765\nh:126\nw:122\n\nid:1\nx:4235\ny:1629\nh:97\nw:110\n\nid:2\nx:167\ny:2825\nh:37\nw:35\n\nfilename: DSC00225.JPG\nid:0\nx:3106\ny:929\nh:54\nw:51\n\nid:1\nx:2794\ny:797\nh:31\nw:35\n\nid:2\nx:3054\ny:620\nh:36\nw:43\n\nid:3\nx:2813\ny:989\nh:41\nw:38\n\nid:4\nx:2811\ny:1506\nh:39\nw:35\n\nid:5\nx:3278\ny:1648\nh:36\nw:39\n\nid:6\nx:2134\ny:1365\nh:59\nw:43\n\nid:7\nx:2240\ny:1482\nh:50\nw:47\n\nid:8\nx:2377\ny:1536\nh:43\nw:43\n\nid:9\nx:2475\ny:728\nh:30\nw:30\n\nid:10\nx:2330\ny:668\nh:39\nw:41\n\nid:11\nx:2756\ny:2258\nh:60\nw:49\n\nid:12\nx:2711\ny:2355\nh:43\nw:54\n\nid:13\nx:3175\ny:2423\nh:46\nw:46\n\nid:14\nx:3124\ny:2219\nh:36\nw:32\n\nid:15\nx:2842\ny:1967\nh:45\nw:47\n\nid:16\nx:2461\ny:2080\nh:45\nw:50\n\nid:17\nx:2368\ny:2201\nh:41\nw:45\n\nid:18\nx:2228\ny:2025\nh:43\nw:41\n\nid:19\nx:2292\ny:2053\nh:47\nw:38\n\nid:20\nx:2119\ny:927\nh:34\nw:28\n\nid:21\nx:3792\ny:1121\nh:38\nw:36\n\nid:22\nx:2459\ny:1757\nh:36\nw:41\n\nid:23\nx:2887\ny:922\nh:11\nw:13\n\nid:24\nx:2706\ny:787\nh:20\nw:20\n\nid:25\nx:2608\ny:704\nh:24\nw:23\n\nid:26\nx:2535\ny:683\nh:13\nw:21\n\nid:27\nx:2482\ny:797\nh:14\nw:23\n\nid:28\nx:1878\ny:853\nh:28\nw:24\n\nid:29\nx:1942\ny:960\nh:20\nw:16\n\nid:30\nx:2377\ny:1161\nh:26\nw:27\n\nid:31\nx:2746\ny:1211\nh:34\nw:33\n\nid:32\nx:2933\ny:1141\nh:16\nw:23\n\nid:33\nx:3078\ny:1113\nh:15\nw:20\n\nid:34\nx:2973\ny:1058\nh:16\nw:16\n\nid:35\nx:3064\ny:1007\nh:12\nw:16\n\nid:36\nx:3464\ny:962\nh:21\nw:21\n\nid:37\nx:3316\ny:908\nh:25\nw:22\n\nid:38\nx:3254\ny:913\nh:18\nw:18\n\nid:39\nx:2655\ny:1314\nh:22\nw:22\n\nid:40\nx:2581\ny:1348\nh:25\nw:26\n\nid:41\nx:1901\ny:1296\nh:26\nw:21\n\nid:42\nx:1814\ny:1079\nh:32\nw:27\n\nid:43\nx:3738\ny:1325\nh:21\nw:24\n\nid:44\nx:2348\ny:548\nh:25\nw:31\n\nid:45\nx:2571\ny:508\nh:16\nw:20\n\nid:46\nx:2082\ny:1507\nh:16\nw:16\n\nid:47\nx:2206\ny:1572\nh:21\nw:19\n\nid:48\nx:3638\ny:1092\nh:15\nw:13\n\nid:49\nx:3609\ny:1107\nh:26\nw:21\n\nid:50\nx:2343\ny:2349\nh:22\nw:25\n\nid:51\nx:2152\ny:2377\nh:23\nw:22\n\nid:52\nx:2517\ny:2440\nh:18\nw:15\n\nid:53\nx:2933\ny:2324\nh:18\nw:21\n\nid:54\nx:2932\ny:2206\nh:14\nw:24\n\nid:55\nx:3191\ny:2140\nh:16\nw:18\n\nid:56\nx:3226\ny:2294\nh:21\nw:20\n\nid:57\nx:2781\ny:1090\nh:16\nw:19\n\nid:58\nx:2033\ny:1347\nh:21\nw:22\n\nid:59\nx:1655\ny:1284\nh:27\nw:29\n\nid:60\nx:2174\ny:2101\nh:25\nw:25\n\nid:61\nx:2837\ny:2114\nh:18\nw:18\n\nfilename: DSC00226.JPG\nid:0\nx:2368\ny:1022\nh:59\nw:50\n\nid:1\nx:3203\ny:1020\nh:35\nw:38\n\nid:2\nx:3238\ny:993\nh:28\nw:37\n\nid:3\nx:3054\ny:1157\nh:29\nw:32\n\nid:4\nx:3188\ny:1276\nh:34\nw:24\n\nid:5\nx:2637\ny:1685\nh:59\nw:47\n\nid:6\nx:2267\ny:1574\nh:38\nw:45\n\nid:7\nx:2880\ny:356\nh:36\nw:36\n\nid:8\nx:2763\ny:2427\nh:47\nw:51\n\nid:9\nx:2731\ny:2233\nh:27\nw:41\n\nid:10\nx:2438\ny:2238\nh:52\nw:47\n\nid:11\nx:3117\ny:2441\nh:43\nw:47\n\nid:12\nx:2803\ny:190\nh:18\nw:18\n\nid:13\nx:2696\ny:379\nh:28\nw:24\n\nid:14\nx:2733\ny:59\nh:24\nw:23\n\nid:15\nx:2746\ny:481\nh:15\nw:17\n\nid:16\nx:2706\ny:530\nh:22\nw:26\n\nid:17\nx:2632\ny:675\nh:19\nw:21\n\nid:18\nx:2437\ny:705\nh:27\nw:27\n\nid:19\nx:2384\ny:628\nh:24\nw:24\n\nid:20\nx:2706\ny:996\nh:24\nw:26\n\nid:21\nx:2562\ny:966\nh:24\nw:24\n\nid:22\nx:2154\ny:865\nh:21\nw:17\n\nid:23\nx:2195\ny:879\nh:26\nw:23\n\nid:24\nx:2243\ny:940\nh:26\nw:20\n\nid:25\nx:2279\ny:947\nh:23\nw:21\n\nid:26\nx:2106\ny:922\nh:22\nw:23\n\nid:27\nx:2236\ny:1048\nh:13\nw:15\n\nid:28\nx:2102\ny:982\nh:17\nw:20\n\nid:29\nx:2878\ny:1117\nh:23\nw:17\n\nid:30\nx:2848\ny:1146\nh:21\nw:20\n\nid:31\nx:2758\ny:1210\nh:17\nw:16\n\nid:32\nx:2947\ny:1402\nh:19\nw:20\n\nid:33\nx:2161\ny:1435\nh:26\nw:18\n\nid:34\nx:2199\ny:1406\nh:16\nw:14\n\nid:35\nx:2082\ny:1616\nh:24\nw:18\n\nid:36\nx:2016\ny:1304\nh:24\nw:20\n\nid:37\nx:1883\ny:1313\nh:22\nw:22\n\nid:38\nx:2016\ny:1588\nh:23\nw:21\n\nid:39\nx:2402\ny:1996\nh:30\nw:28\n\nid:40\nx:2242\ny:2082\nh:26\nw:22\n\nid:41\nx:3095\ny:2083\nh:20\nw:24\n\nid:42\nx:2951\ny:2160\nh:15\nw:18\n\nid:43\nx:2782\ny:2164\nh:16\nw:16\n\nid:44\nx:2905\ny:2315\nh:19\nw:18\n\nid:45\nx:3135\ny:2560\nh:16\nw:20\n\nid:46\nx:2453\ny:2330\nh:28\nw:24\n\nid:47\nx:2520\ny:2204\nh:17\nw:18\n\nid:48\nx:3391\ny:1493\nh:22\nw:24\n\nfilename: DSC00280.JPG\nid:0\nx:2850\ny:639\nh:41\nw:42\n\nid:1\nx:2731\ny:598\nh:36\nw:40\n\nid:2\nx:1611\ny:239\nh:52\nw:28\n\nid:3\nx:2543\ny:440\nh:32\nw:37\n\nid:4\nx:3210\ny:721\nh:36\nw:40\n\nid:5\nx:2837\ny:153\nh:24\nw:18\n\nid:6\nx:2490\ny:397\nh:26\nw:29\n\nid:7\nx:2981\ny:403\nh:28\nw:36\n\nid:8\nx:2162\ny:401\nh:30\nw:30\n\nid:9\nx:2035\ny:443\nh:20\nw:25\n\nid:10\nx:2039\ny:231\nh:27\nw:19\n\nid:11\nx:2012\ny:296\nh:26\nw:25\n\nid:12\nx:1980\ny:274\nh:19\nw:19\n\nid:13\nx:1944\ny:264\nh:26\nw:22\n\nid:14\nx:2019\ny:703\nh:22\nw:24\n\nid:15\nx:2289\ny:673\nh:18\nw:26\n\nid:16\nx:3126\ny:711\nh:18\nw:26\n\nid:17\nx:2222\ny:1025\nh:21\nw:20\n\nid:18\nx:3335\ny:1025\nh:21\nw:21\n\nid:19\nx:3369\ny:945\nh:18\nw:23\n\nid:20\nx:3245\ny:947\nh:16\nw:28\n\nid:21\nx:3367\ny:477\nh:17\nw:16\n\nid:22\nx:2275\ny:6\nh:28\nw:26\n\nid:23\nx:2346\ny:34\nh:25\nw:24\n\nid:24\nx:2198\ny:2395\nh:24\nw:24\n\nid:25\nx:3304\ny:2515\nh:39\nw:40\n\nid:26\nx:3509\ny:2300\nh:36\nw:30\n\nid:27\nx:2065\ny:3486\nh:31\nw:30\n\nid:28\nx:3355\ny:3619\nh:27\nw:39\n\nid:29\nx:1984\ny:1715\nh:26\nw:24\n\nfilename: DSC00471.JPG\nid:0\nx:2344\ny:2125\nh:78\nw:66\n\nid:1\nx:1909\ny:101\nh:30\nw:27\n\nid:2\nx:1715\ny:297\nh:27\nw:26\n\nid:3\nx:1862\ny:531\nh:33\nw:22\n\nid:4\nx:1801\ny:531\nh:42\nw:22\n\nid:5\nx:2086\ny:736\nh:46\nw:33\n\nid:6\nx:2234\ny:632\nh:31\nw:25\n\nid:7\nx:2695\ny:177\nh:33\nw:23\n\nid:8\nx:2833\ny:156\nh:26\nw:27\n\nid:9\nx:2896\ny:254\nh:36\nw:23\n\nid:10\nx:2384\ny:678\nh:20\nw:26\n\nid:11\nx:1441\ny:1053\nh:34\nw:27\n\nid:12\nx:1862\ny:1120\nh:26\nw:23\n\nid:13\nx:2747\ny:667\nh:23\nw:23\n\nid:14\nx:1483\ny:1359\nh:26\nw:30\n\nid:15\nx:1598\ny:1384\nh:21\nw:26\n\nid:16\nx:1397\ny:1338\nh:25\nw:23\n\nid:17\nx:2164\ny:1909\nh:46\nw:38\n\nid:18\nx:2621\ny:2011\nh:30\nw:26\n\nid:19\nx:2458\ny:2836\nh:23\nw:25\n\nid:20\nx:2877\ny:2952\nh:30\nw:30\n\nid:21\nx:2907\ny:3184\nh:26\nw:26\n\nid:22\nx:2886\ny:3294\nh:23\nw:21\n\nid:23\nx:2410\ny:3201\nh:29\nw:31\n\nid:24\nx:3586\ny:2925\nh:35\nw:39\n\nid:25\nx:3469\ny:2801\nh:38\nw:40\n\nid:26\nx:3524\ny:2206\nh:31\nw:29\n\nid:27\nx:3570\ny:2197\nh:29\nw:26\n\nid:28\nx:3959\ny:3076\nh:33\nw:30\n\nid:29\nx:2857\ny:2412\nh:31\nw:29\n\nid:30\nx:4401\ny:1844\nh:42\nw:44\n\nid:31\nx:4297\ny:1933\nh:31\nw:31\n\nid:32\nx:4740\ny:2345\nh:22\nw:29\n\nid:33\nx:5168\ny:2856\nh:39\nw:38\n\nid:34\nx:4659\ny:1073\nh:33\nw:27\n\nid:35\nx:4227\ny:1065\nh:34\nw:31\n\nid:36\nx:4437\ny:1376\nh:30\nw:27\n\nid:37\nx:4242\ny:1437\nh:20\nw:22\n\nid:38\nx:4198\ny:1403\nh:27\nw:21\n\nid:39\nx:4270\ny:532\nh:42\nw:38\n\nid:40\nx:4361\ny:247\nh:31\nw:27\n\nid:41\nx:3653\ny:181\nh:31\nw:25\n\nid:42\nx:3626\ny:86\nh:29\nw:27\n\nid:43\nx:2060\ny:537\nh:27\nw:26\n\nid:44\nx:2588\ny:385\nh:23\nw:23\n\nid:45\nx:2703\ny:343\nh:21\nw:21\n\nid:46\nx:1970\ny:1779\nh:23\nw:18\n\nfilename: DSC00472.JPG\nid:0\nx:2805\ny:2135\nh:81\nw:74\n\nid:1\nx:136\ny:2942\nh:29\nw:26\n\nid:2\nx:177\ny:2714\nh:30\nw:33\n\nid:3\nx:637\ny:2971\nh:27\nw:30\n\nid:4\nx:638\ny:1800\nh:34\nw:29\n\nid:5\nx:848\ny:1463\nh:44\nw:37\n\nid:6\nx:995\ny:1251\nh:38\nw:32\n\nid:7\nx:1159\ny:1279\nh:38\nw:40\n\nid:8\nx:1298\ny:1321\nh:27\nw:38\n\nid:9\nx:1209\ny:923\nh:34\nw:40\n\nid:10\nx:1028\ny:751\nh:33\nw:29\n\nid:11\nx:1011\ny:590\nh:30\nw:27\n\nid:12\nx:913\ny:492\nh:25\nw:29\n\nid:13\nx:1082\ny:324\nh:21\nw:23\n\nid:14\nx:1753\ny:32\nh:27\nw:27\n\nid:15\nx:989\ny:151\nh:34\nw:33\n\nid:16\nx:1867\ny:274\nh:26\nw:23\n\nid:17\nx:2467\ny:1059\nh:25\nw:25\n\nid:18\nx:2632\ny:425\nh:34\nw:34\n\nid:19\nx:2548\ny:419\nh:36\nw:29\n\nid:20\nx:2439\ny:142\nh:37\nw:36\n\nid:21\nx:2927\ny:686\nh:40\nw:43\n\nid:22\nx:3993\ny:267\nh:27\nw:27\n\nid:23\nx:4705\ny:344\nh:26\nw:22\n\nid:24\nx:4706\ny:421\nh:30\nw:27\n\nid:25\nx:5072\ny:806\nh:33\nw:29\n\nid:26\nx:5124\ny:586\nh:25\nw:22\n\nid:27\nx:4996\ny:1224\nh:38\nw:33\n\nid:28\nx:4753\ny:1365\nh:30\nw:29\n\nid:29\nx:4890\ny:1930\nh:33\nw:36\n\nid:30\nx:5044\ny:1867\nh:29\nw:27\n\nid:31\nx:5112\ny:1492\nh:25\nw:22\n\nid:32\nx:4963\ny:1527\nh:21\nw:23\n\nid:33\nx:4922\ny:1504\nh:23\nw:27\n\nid:34\nx:4794\ny:2288\nh:37\nw:30\n\nid:35\nx:4870\ny:2502\nh:27\nw:30\n\nid:36\nx:3967\ny:2832\nh:33\nw:26\n\nid:37\nx:2520\ny:1911\nh:59\nw:58\n\nid:38\nx:2814\ny:2857\nh:30\nw:32\n\nid:39\nx:3441\ny:2923\nh:33\nw:33\n\nid:40\nx:3478\ny:3139\nh:27\nw:30\n\nid:41\nx:3575\ny:3095\nh:25\nw:27\n\nid:42\nx:3469\ny:3245\nh:29\nw:22\n\nid:43\nx:3272\ny:3290\nh:23\nw:30\n\nid:44\nx:2227\ny:2462\nh:30\nw:30\n\nid:45\nx:2824\ny:3243\nh:26\nw:33\n\nid:46\nx:3890\ny:2729\nh:29\nw:29\n\nid:47\nx:3297\ny:2011\nh:36\nw:23\n\nid:48\nx:2244\ny:1778\nh:25\nw:23\n\nid:49\nx:2060\ny:2548\nh:22\nw:26\n\nid:50\nx:3731\ny:2303\nh:26\nw:26\n\nid:51\nx:3785\ny:2324\nh:26\nw:26\n\nid:52\nx:4075\ny:2185\nh:27\nw:22\n\nid:53\nx:2904\ny:1064\nh:29\nw:25\n\nid:54\nx:4022\ny:734\nh:30\nw:32\n\nid:55\nx:4207\ny:377\nh:29\nw:25\n\nid:56\nx:3960\ny:1097\nh:44\nw:37\n\nid:57\nx:2157\ny:418\nh:47\nw:34\n\nid:58\nx:2182\ny:2042\nh:55\nw:49\n\nfilename: DSC00473.JPG\nid:0\nx:3126\ny:2147\nh:89\nw:78\n\nid:1\nx:4132\ny:60\nh:109\nw:74\n\nid:2\nx:394\ny:3110\nh:52\nw:40\n\nid:3\nx:366\ny:3406\nh:56\nw:40\n\nid:4\nx:70\ny:3404\nh:42\nw:24\n\nid:5\nx:223\ny:3086\nh:36\nw:36\n\nid:6\nx:1060\ny:1875\nh:56\nw:46\n\nid:7\nx:1438\ny:1461\nh:50\nw:42\n\nid:8\nx:1652\ny:1213\nh:42\nw:38\n\nid:9\nx:1809\ny:1255\nh:36\nw:32\n\nid:10\nx:1953\ny:845\nh:34\nw:32\n\nid:11\nx:1756\ny:616\nh:44\nw:36\n\nid:12\nx:1762\ny:420\nh:40\nw:32\n\nid:13\nx:1571\ny:282\nh:34\nw:32\n\nid:14\nx:1714\ny:288\nh:22\nw:18\n\nid:15\nx:1338\ny:459\nh:32\nw:24\n\nid:16\nx:1459\ny:1048\nh:24\nw:24\n\nid:17\nx:1008\ny:1074\nh:34\nw:30\n\nid:18\nx:1915\ny:111\nh:30\nw:30\n\nid:19\nx:3569\ny:760\nh:54\nw:36\n\nid:20\nx:3470\ny:44\nh:30\nw:32\n\nid:21\nx:3633\ny:18\nh:24\nw:26\n\nid:22\nx:3792\ny:46\nh:20\nw:20\n\nid:23\nx:3857\ny:64\nh:34\nw:30\n\nid:24\nx:3959\ny:32\nh:30\nw:26\n\nid:25\nx:3985\ny:109\nh:34\nw:28\n\nid:26\nx:4078\ny:193\nh:32\nw:28\n\nid:27\nx:4247\ny:487\nh:30\nw:22\n\nid:28\nx:3412\ny:467\nh:38\nw:24\n\nid:29\nx:3454\ny:485\nh:36\nw:22\n\nid:30\nx:3223\ny:1092\nh:26\nw:28\n\nid:31\nx:2959\ny:1935\nh:54\nw:50\n\nid:32\nx:4156\ny:1915\nh:34\nw:24\n\nid:33\nx:3973\ny:2219\nh:36\nw:30\n\nid:34\nx:4011\ny:2394\nh:32\nw:28\n\nid:35\nx:3058\ny:2867\nh:30\nw:26\n\nid:36\nx:3456\ny:2865\nh:28\nw:28\n\nid:37\nx:2792\ny:1799\nh:30\nw:28\n\nid:38\nx:4150\ny:1434\nh:36\nw:36\n\nid:39\nx:2195\ny:2116\nh:24\nw:20\n\nid:40\nx:2533\ny:2519\nh:36\nw:36\n\nid:41\nx:2808\ny:2340\nh:54\nw:50\n\nid:42\nx:3034\ny:2197\nh:30\nw:20\n\nid:43\nx:3507\ny:2028\nh:26\nw:22\n\nid:44\nx:3106\ny:3233\nh:38\nw:40\n\nid:45\nx:3416\ny:3219\nh:34\nw:32\n\nid:46\nx:4241\ny:32\nh:38\nw:30\n\nid:47\nx:1002\ny:1231\nh:32\nw:32\n\nid:48\nx:1203\ny:941\nh:34\nw:32\n\nid:49\nx:1286\ny:1326\nh:38\nw:30\n\nfilename: DSC00481.JPG\nid:0\nx:3649\ny:2917\nh:103\nw:103\n\nid:1\nx:2531\ny:1440\nh:56\nw:42\n\nid:2\nx:2808\ny:1539\nh:38\nw:46\n\nid:3\nx:3006\ny:1861\nh:46\nw:46\n\nid:4\nx:2036\ny:2197\nh:40\nw:40\n\nid:5\nx:2231\ny:2016\nh:34\nw:38\n\nid:6\nx:915\ny:3044\nh:40\nw:44\n\nid:7\nx:954\ny:3462\nh:36\nw:26\n\nid:8\nx:968\ny:3607\nh:38\nw:32\n\nid:9\nx:2297\ny:3249\nh:40\nw:30\n\nid:10\nx:2529\ny:3054\nh:42\nw:40\n\nid:11\nx:2877\ny:2947\nh:38\nw:34\n\nid:12\nx:2772\ny:2571\nh:36\nw:34\n\nid:13\nx:3967\ny:2812\nh:44\nw:34\n\nid:14\nx:3917\ny:2412\nh:28\nw:22\n\nid:15\nx:3263\ny:2937\nh:30\nw:28\n\nid:16\nx:3167\ny:2923\nh:28\nw:26\n\nid:17\nx:3444\ny:2973\nh:30\nw:24\n\nid:18\nx:3545\ny:3070\nh:36\nw:36\n\nid:19\nx:3824\ny:2901\nh:26\nw:30\n\nid:20\nx:3507\ny:2756\nh:30\nw:24\n\nid:21\nx:1638\ny:3080\nh:34\nw:32\n\nfilename: DSC00482.JPG\nid:0\nx:2824\ny:2971\nh:113\nw:89\n\nid:1\nx:2676\ny:1548\nh:33\nw:31\n\nid:2\nx:2703\ny:1863\nh:41\nw:41\n\nid:3\nx:3779\ny:1406\nh:36\nw:40\n\nid:4\nx:3286\ny:2454\nh:38\nw:26\n\nid:5\nx:2334\ny:2544\nh:40\nw:36\n\nid:6\nx:1956\ny:2171\nh:31\nw:36\n\nid:7\nx:3142\ny:2898\nh:41\nw:33\n\nid:8\nx:4413\ny:2726\nh:34\nw:34\n\nid:9\nx:2994\ny:2970\nh:34\nw:31\n\nid:10\nx:2758\ny:3116\nh:36\nw:31\n\nid:11\nx:2083\ny:2989\nh:43\nw:38\n\nid:12\nx:2136\ny:2731\nh:33\nw:33\n\nid:13\nx:1897\ny:3133\nh:48\nw:40\n\nid:14\nx:1588\ny:3494\nh:52\nw:40\n\nid:15\nx:1982\ny:3393\nh:36\nw:34\n\nid:16\nx:2043\ny:3410\nh:27\nw:33\n\nid:17\nx:2873\ny:3465\nh:38\nw:29\n\nid:18\nx:2353\ny:2923\nh:38\nw:27\n\nid:19\nx:2466\ny:2879\nh:33\nw:33\n\nid:20\nx:2559\ny:2932\nh:29\nw:27\n\nid:21\nx:2619\ny:2956\nh:31\nw:34\n\nid:22\nx:1774\ny:2382\nh:38\nw:29\n\nfilename: DSC00561.JPG\nid:0\nx:2937\ny:3280\nh:189\nw:162\n\nid:1\nx:3776\ny:630\nh:57\nw:46\n\nfilename: DSC00585.JPG\nid:0\nx:1822\ny:104\nh:95\nw:113\n\nid:1\nx:2430\ny:2360\nh:32\nw:41\n\nid:2\nx:2082\ny:1114\nh:32\nw:44\n\nid:3\nx:2075\ny:1011\nh:67\nw:67\n\nid:4\nx:2012\ny:342\nh:57\nw:63\n\nid:5\nx:1855\ny:560\nh:40\nw:49\n\nid:6\nx:1799\ny:949\nh:39\nw:44\n\nid:7\nx:3487\ny:228\nh:32\nw:40\n\nid:8\nx:3224\ny:1136\nh:52\nw:55\n\nid:9\nx:4446\ny:528\nh:45\nw:59\n\nid:10\nx:3796\ny:362\nh:41\nw:40\n\nfilename: DSC00586.JPG\nid:0\nx:2905\ny:184\nh:79\nw:85\n\nid:1\nx:1566\ny:852\nh:48\nw:45\n\nid:2\nx:3028\ny:445\nh:45\nw:46\n\nid:3\nx:2862\ny:622\nh:44\nw:44\n\nid:4\nx:2941\ny:1100\nh:53\nw:55\n\nid:5\nx:2909\ny:1182\nh:41\nw:46\n\nid:6\nx:2199\ny:1145\nh:37\nw:35\n\nid:7\nx:3557\ny:1268\nh:41\nw:42\n\nid:8\nx:2723\ny:1006\nh:37\nw:39\n\nid:9\nx:3883\ny:506\nh:31\nw:35\n\nid:10\nx:2234\ny:1554\nh:31\nw:33\n\nid:11\nx:2760\ny:1580\nh:39\nw:35\n\nid:12\nx:3183\ny:1557\nh:42\nw:42\n\nid:13\nx:3127\ny:1707\nh:31\nw:33\n\nid:14\nx:2189\ny:1827\nh:33\nw:30\n\nid:15\nx:2888\ny:2378\nh:31\nw:31\n\nid:16\nx:2721\ny:2454\nh:46\nw:46\n\nid:17\nx:4060\ny:805\nh:42\nw:44\n\nid:18\nx:4363\ny:2135\nh:66\nw:57\n\nid:19\nx:4053\ny:1819\nh:32\nw:36\n\nfilename: DSC00614.JPG\nid:0\nx:2391\ny:275\nh:90\nw:72\n\nid:1\nx:2704\ny:156\nh:47\nw:45\n\nid:2\nx:3124\ny:436\nh:39\nw:45\n\nid:3\nx:1936\ny:752\nh:42\nw:29\n\nid:4\nx:2202\ny:922\nh:27\nw:32\n\nid:5\nx:3264\ny:314\nh:35\nw:34\n\nfilename: DSC00915.JPG\nid:0\nx:1935\ny:420\nh:262\nw:212\n\nid:1\nx:3162\ny:1625\nh:69\nw:69\n\nid:2\nx:3133\ny:1654\nh:48\nw:34\n\nid:3\nx:3251\ny:1590\nh:38\nw:30\n\nid:4\nx:3225\ny:1592\nh:38\nw:20\n\nid:5\nx:3397\ny:2143\nh:39\nw:39\n\nfilename: DSC00925.JPG\nid:0\nx:3854\ny:2773\nh:268\nw:250\n\nid:1\nx:3738\ny:2216\nh:98\nw:95\n\nfilename: DSC00926.JPG\nid:0\nx:2985\ny:2877\nh:280\nw:244\n\nid:1\nx:2741\ny:2279\nh:143\nw:141\n\nfilename: DSC00927.JPG\nid:0\nx:2057\ny:2922\nh:260\nw:206\n\nid:1\nx:2741\ny:770\nh:45\nw:43\n\nid:2\nx:1782\ny:883\nh:41\nw:38\n\nid:3\nx:1813\ny:2327\nh:89\nw:64\n\nfilename: DSC00998 (1).jpg\nid:0\nx:2832\ny:937\nh:122\nw:106\n\nid:1\nx:2605\ny:615\nh:82\nw:67\n\nid:2\nx:1808\ny:506\nh:58\nw:55\n\nid:3\nx:1476\ny:327\nh:52\nw:55\n\nid:4\nx:2149\ny:31\nh:37\nw:53\n\nid:5\nx:4764\ny:1125\nh:48\nw:47\n\nid:6\nx:3359\ny:3304\nh:53\nw:55\n\nid:7\nx:3066\ny:3101\nh:52\nw:64\n\nid:8\nx:4416\ny:2533\nh:43\nw:53\n\nid:9\nx:4275\ny:2792\nh:52\nw:52\n\nid:10\nx:3987\ny:2947\nh:45\nw:56\n\nfilename: DSC00998.JPG\nid:0\nx:3116\ny:868\nh:178\nw:154\n\nid:1\nx:2987\ny:473\nh:63\nw:82\n\nid:2\nx:3562\ny:1930\nh:29\nw:20\n\nfilename: DSC00999 (1).jpg\nid:0\nx:1183\ny:1001\nh:100\nw:92\n\nid:1\nx:1028\ny:698\nh:72\nw:61\n\nid:2\nx:549\ny:641\nh:50\nw:52\n\nid:3\nx:385\ny:488\nh:56\nw:40\n\nid:4\nx:2129\ny:3327\nh:55\nw:60\n\nid:5\nx:1711\ny:3100\nh:56\nw:61\n\nid:6\nx:1312\ny:3314\nh:43\nw:48\n\nid:7\nx:4405\ny:2823\nh:43\nw:56\n\nid:8\nx:4344\ny:1864\nh:56\nw:64\n\nid:9\nx:3901\ny:1073\nh:45\nw:43\n\nfilename: DSC01020 (1).jpg\nid:0\nx:3113\ny:3220\nh:79\nw:82\n\nid:1\nx:2665\ny:2866\nh:58\nw:53\n\nid:2\nx:2607\ny:3055\nh:53\nw:60\n\nid:3\nx:1975\ny:2754\nh:61\nw:60\n\nid:4\nx:3354\ny:2989\nh:61\nw:71\n\nid:5\nx:1577\ny:2734\nh:58\nw:50\n\nfilename: DSC01115.JPG\nid:0\nx:1827\ny:2987\nh:103\nw:129\n\nid:1\nx:4206\ny:2706\nh:105\nw:107\n\nid:2\nx:4592\ny:826\nh:56\nw:84\n\nid:3\nx:4693\ny:622\nh:45\nw:62\n\nid:4\nx:3657\ny:376\nh:49\nw:45\n\nfilename: im_0751_20190529_155640.jpg\nid:0\nx:1774\ny:1388\nh:109\nw:91\n\nid:1\nx:1714\ny:1141\nh:48\nw:51\n\nfilename: im_0752_20190529_155643.jpg\nid:0\nx:1379\ny:1432\nh:112\nw:98\n\nid:1\nx:1274\ny:1175\nh:47\nw:43\n\nfilename: im_0753_20190529_155647.jpg\nid:0\nx:918\ny:1448\nh:112\nw:88\n\nid:1\nx:805\ny:1206\nh:35\nw:38\n\nid:2\nx:1506\ny:1885\nh:33\nw:38\n\nfilename: im_0824_20190529_160111.jpg\nid:0\nx:1203\ny:567\nh:50\nw:45\n\nid:1\nx:618\ny:345\nh:30\nw:27\n\nid:2\nx:754\ny:411\nh:29\nw:29\n\nid:3\nx:1097\ny:437\nh:38\nw:36\n\nid:4\nx:1351\ny:1509\nh:31\nw:33\n\nid:5\nx:1483\ny:1590\nh:28\nw:33\n\nid:6\nx:1123\ny:1635\nh:25\nw:27\n\nid:7\nx:1129\ny:1528\nh:32\nw:38\n\nid:8\nx:1763\ny:1428\nh:22\nw:28\n\nid:9\nx:2066\ny:623\nh:21\nw:22\n\nid:10\nx:1712\ny:207\nh:21\nw:25\n\nfilename: im_0825_20190529_160115.jpg\nid:0\nx:539\ny:609\nh:65\nw:58\n\nid:1\nx:476\ny:499\nh:30\nw:30\n\nid:2\nx:267\ny:493\nh:22\nw:23\n\nid:3\nx:499\ny:90\nh:23\nw:27\n\nid:4\nx:1324\ny:195\nh:30\nw:27\n\nid:5\nx:1687\ny:618\nh:20\nw:20\n\nid:6\nx:960\ny:1604\nh:30\nw:30\n\nid:7\nx:787\ny:1511\nh:33\nw:30\n\nid:8\nx:601\ny:1518\nh:30\nw:28\n\nid:9\nx:1884\ny:960\nh:30\nw:32\n\nid:10\nx:1544\ny:1279\nh:29\nw:24\n\nid:11\nx:1496\ny:1399\nh:33\nw:29\n\nid:12\nx:1290\ny:1547\nh:27\nw:29\n\nid:13\nx:1923\ny:1371\nh:24\nw:26\n\nid:14\nx:1774\ny:1809\nh:35\nw:33\n\nid:15\nx:1653\ny:1896\nh:22\nw:27\n\nfilename: im_0828_20190529_160126.jpg\nid:0\nx:1315\ny:700\nh:63\nw:38\n\nid:1\nx:1225\ny:1147\nh:36\nw:25\n\nid:2\nx:1213\ny:1769\nh:34\nw:38\n\nid:3\nx:1513\ny:1403\nh:24\nw:21\n\nid:4\nx:1692\ny:1479\nh:25\nw:17\n\nid:5\nx:969\ny:236\nh:25\nw:22\n\nid:6\nx:903\ny:305\nh:28\nw:28\n\nfilename: im_1213_20190529_204709.jpg\nid:0\nx:318\ny:1597\nh:98\nw:86\n\nid:1\nx:646\ny:1664\nh:56\nw:56\n\nid:2\nx:833\ny:250\nh:47\nw:38\n\nfilename: im_1214_20190529_204713.jpg\nid:0\nx:321\ny:1585\nh:74\nw:88\n\nid:1\nx:665\ny:1623\nh:72\nw:67\n\nid:2\nx:777\ny:285\nh:43\nw:45\n\nfilename: IMG_0013.JPG\nid:0\nx:1541\ny:1710\nh:102\nw:88\n\nid:1\nx:2972\ny:1485\nh:86\nw:86\n\nid:2\nx:3579\ny:815\nh:48\nw:48\n\nfilename: IMG_0029.JPG\nid:0\nx:1786\ny:1340\nh:109\nw:116\n\nid:1\nx:4189\ny:1105\nh:102\nw:106\n\nid:2\nx:4369\ny:528\nh:42\nw:56\n\nid:3\nx:2456\ny:2029\nh:51\nw:76\n\nid:4\nx:1018\ny:2758\nh:60\nw:41\n\nid:5\nx:3821\ny:3669\nh:48\nw:53\n\nid:6\nx:3396\ny:3595\nh:56\nw:44\n\nid:7\nx:5043\ny:3881\nh:45\nw:41\n\nid:8\nx:5193\ny:2969\nh:61\nw:55\n\nfilename: IMG_0132.JPG\nid:0\nx:2071\ny:1961\nh:143\nw:148\n\nid:1\nx:5307\ny:1721\nh:112\nw:112\n\nid:2\nx:2627\ny:1113\nh:57\nw:60\n\nid:3\nx:1111\ny:3360\nh:44\nw:42\n\nid:4\nx:3008\ny:2880\nh:61\nw:76\n\nid:5\nx:5458\ny:935\nh:50\nw:53\n\nfilename: IMG_0139.JPG\nid:0\nx:2454\ny:1951\nh:138\nw:130\n\nid:1\nx:5289\ny:1674\nh:106\nw:99\n\nid:2\nx:2792\ny:1071\nh:51\nw:68\n\nid:3\nx:995\ny:3582\nh:71\nw:69\n\nid:4\nx:802\ny:3439\nh:64\nw:50\n\nid:5\nx:3383\ny:2818\nh:79\nw:98\n\nid:6\nx:251\ny:2119\nh:56\nw:52\n\nfilename: IMG_0140.JPG\nid:0\nx:2420\ny:1766\nh:113\nw:132\n\nid:1\nx:2871\ny:1054\nh:53\nw:65\n\nid:2\nx:1450\ny:3165\nh:35\nw:32\n\nid:3\nx:5095\ny:1643\nh:85\nw:104\n\nid:4\nx:5266\ny:939\nh:51\nw:51\n\n"
    }
   ],
   "source": [
    "#Extract the data from json\n",
    "for data_files in data_adnotation[\"_via_img_metadata\"].keys():\n",
    "    print('filename: {}'.format(data_adnotation[\"_via_img_metadata\"][data_files][\"filename\"]))\n",
    "    for idx, data_regions in enumerate(data_adnotation[\"_via_img_metadata\"][data_files][\"regions\"]):\n",
    "        print('id:{}'.format(idx))\n",
    "        print(\"x:{}\".format(data_regions['shape_attributes']['x']))\n",
    "        print(\"y:{}\".format(data_regions['shape_attributes']['y']))\n",
    "        print(\"h:{}\".format(data_regions['shape_attributes']['height']))\n",
    "        print(\"w:{}\".format(data_regions['shape_attributes']['width']))\n",
    "        print()"
   ]
  },
  {
   "source": [
    "#main Parser COCO to YOLO\n",
    "for data_files in data_adnotation[\"_via_img_metadata\"].keys():\n",
    "    img_filename = data_adnotation[\"_via_img_metadata\"][data_files][\"filename\"]\n",
    "    img = Image.open(DIR_IMG_PREFIX + str(img_filename))\n",
    "    size_x, size_y = img.size\n",
    "    #print('filename: {} resolution(x,y): {},{}'.format(img_filename, size_x, size_y))\n",
    "    with open(DIR_OUTPUT_PREFIX + os.path.splitext(img_filename)[0] + '.txt', \"w\") as text_file:\n",
    "    \n",
    "        for idx, data_regions in enumerate(data_adnotation[\"_via_img_metadata\"][data_files][\"regions\"]):\n",
    "            x = data_regions['shape_attributes']['x']\n",
    "            y = data_regions['shape_attributes']['y']\n",
    "            \n",
    "            height = data_regions['shape_attributes']['height']\n",
    "            width = data_regions['shape_attributes']['width']\n",
    "            x_center = x + int(width/2)\n",
    "            y_center = y + int(height/2)\n",
    "            #print(\"{} x:{} y:{} h: {}, w:{}, x_center:{}, y_center:{}\".format(idx+1, x, y, height, width, x_center, y_center))\n",
    "            norm_x = x_center/size_x\n",
    "            norm_y = y_center/size_y\n",
    "            norm_width = width / size_x\n",
    "            norm_height = height / size_y\n",
    "\n",
    "            #print('1', norm_x, norm_y, norm_width, norm_height)\n",
    "            text_file.write('1 {} {} {} {}\\n'.format(norm_x, norm_y, norm_width, norm_height))\n",
    "        \n",
    "        \n",
    "        #print()"
   ],
   "cell_type": "code",
   "outputs": [],
   "metadata": {},
   "execution_count": 4
  },
  {
   "cell_type": "code",
   "execution_count": null,
   "metadata": {},
   "outputs": [],
   "source": []
  }
 ],
 "metadata": {
  "kernelspec": {
   "display_name": "Python 3",
   "language": "python",
   "name": "python3"
  },
  "language_info": {
   "codemirror_mode": {
    "name": "ipython",
    "version": 3
   },
   "file_extension": ".py",
   "mimetype": "text/x-python",
   "name": "python",
   "nbconvert_exporter": "python",
   "pygments_lexer": "ipython3",
   "version": "3.8.0-final"
  }
 },
 "nbformat": 4,
 "nbformat_minor": 4
}